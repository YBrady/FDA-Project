{
 "cells": [
  {
   "cell_type": "markdown",
   "metadata": {},
   "source": [
    "<img align=\"left\" src=\"images/GMIT-logo.png\" alt=\"GMIT\" width=\"250\"/>                                                      <img align=\"right\" src=\"images/data-analytics.png\" alt=\"HDipDA\" width=\"300\"/>  \n",
    "\n",
    "# <center>Fundamentals of Data Analysis - Tips Project 2019</center> #"
   ]
  },
  {
   "cell_type": "markdown",
   "metadata": {},
   "source": [
    "***\n",
    "**Module Name**: Fundamentals of Data Analysis  \n",
    "**Module Number**: 52446  \n",
    "**Student Name**: Yvonne Brady  \n",
    "**Student ID**: G00376355  \n",
    "***"
   ]
  },
  {
   "cell_type": "markdown",
   "metadata": {},
   "source": [
    "_**Note:** For ease of navigation, where markdown cells are not adjacent, there is a link to the next markdown cell \">>>\". This will aid in anyone who wants to see the analysis rather than the code to achieve that decisional information. In some instances there is data results or plot displayed in code cells. These will not be skipped over in this manner._"
   ]
  },
  {
   "cell_type": "markdown",
   "metadata": {},
   "source": [
    "### Description - 30%###\n",
    "Create a git repository and make it available online for the lecturer to clone. The repository should contain all your work for this assessment. Within the repository, create a jupyter notebook that uses descriptive statistics and plots to describe the tips dataset. This part is worth 30% of your overall mark.\n",
    "\n",
    "### Regression - 30% ###\n",
    "To the above jupyter notebook add a section that discusses and analyses whether there is a relationship between the total bill and tip amount, and this part is also worth 30%.\n",
    "\n",
    "### Analysis - 40% ###\n",
    "Again using the same notebook, analyse the relationship between the variables within the dataset. You are free to interpret this as you wish — for example, you may analyse all pairs of variables, or select a subset and analyse those. This part is worth 40%."
   ]
  },
  {
   "cell_type": "markdown",
   "metadata": {},
   "source": [
    "## Table of Contents\n",
    "1. [Introduction](#intro)  \n",
    "2. [General Description of Dataset](#info)  \n",
    "3. [Categorical Data](#cat)  \n",
    "4. []()  \n",
    "5. []()"
   ]
  },
  {
   "cell_type": "markdown",
   "metadata": {},
   "source": [
    "## <a name=\"intro\"></a>1.0 Introduction\n",
    "This project involves the tips dataset that comes as part of the seaborn package. \n",
    "\n",
    "<span style='background :yellow' > \n",
    "**_Caveat:_** There are no boundaries set for this dataset however which leads to a flawed analysis, see below for details. From what we can ascertain from google searching, the data appears to come from one waiter who recorded information about each tip he received over a period of a few months working in one restaurant. It is on this basis that the analysis was done.  </span>\n",
    "\n",
    "All caveats aside, in order to start our analysis, we must first import our packages. [>>>](#info)"
   ]
  },
  {
   "cell_type": "code",
   "execution_count": 1,
   "metadata": {},
   "outputs": [],
   "source": [
    "# First of all import all the packages you need\n",
    "# The importation of a lot of packages may have adverse affects on the performance of your script\n",
    "# but this is not important for this dataset and investigation. \n",
    "# Should enhanced performance be required, the importation packages may be re-thought. \n",
    "\n",
    "import numpy as np # foundation of all data processing packages\n",
    "import pandas as pd # using dataframes etc\n",
    "import matplotlib.pyplot as plt # plotting and as a basis for seaborn\n",
    "import seaborn as sns # fancier plotting and statistics etc\n",
    "import pandas_profiling # found this - for profiling the dataset initially\n",
    "from scipy import stats # For statistics\n",
    "from tabulate import tabulate # To make som etables a bit easier\n",
    "import sklearn.neighbors as nei\n",
    "import sklearn.model_selection as mod\n",
    "from tensorflow.keras.models import Sequential\n",
    "from tensorflow.keras.layers import Dense, Activation\n",
    "from sklearn import metrics\n",
    "\n",
    "# magic command to allow for easier integration of matplotlib plots in the Jupyter notebook\n",
    "%matplotlib inline "
   ]
  },
  {
   "cell_type": "code",
   "execution_count": 2,
   "metadata": {},
   "outputs": [],
   "source": [
    "# And the dataset itself (also included in this repository)\n",
    "tips = sns.load_dataset(\"tips\")"
   ]
  },
  {
   "cell_type": "code",
   "execution_count": 3,
   "metadata": {},
   "outputs": [
    {
     "name": "stdout",
     "output_type": "stream",
     "text": [
      "<class 'pandas.core.frame.DataFrame'>\n",
      "RangeIndex: 244 entries, 0 to 243\n",
      "Data columns (total 7 columns):\n",
      "total_bill    244 non-null float64\n",
      "tip           244 non-null float64\n",
      "sex           244 non-null category\n",
      "smoker        244 non-null category\n",
      "day           244 non-null category\n",
      "time          244 non-null category\n",
      "size          244 non-null int64\n",
      "dtypes: category(4), float64(2), int64(1)\n",
      "memory usage: 7.2 KB\n"
     ]
    }
   ],
   "source": [
    "# Now have a look at the data\n",
    "tips.info()"
   ]
  },
  {
   "cell_type": "code",
   "execution_count": 4,
   "metadata": {},
   "outputs": [
    {
     "name": "stdout",
     "output_type": "stream",
     "text": [
      "The dataset has 244 rows, each with 7 attributes - totalling 1708 data values in the dataset.\n",
      "Over the data collection period, the waiter served 627 customers in 244 transactions, generating an income of $ 4827.77 . \n",
      "This resulted in tips totalling $ 731.58 .\n",
      "The day breakdown is as follows:\n",
      "day\n",
      "Thur    62\n",
      "Fri     19\n",
      "Sat     87\n",
      "Sun     76\n",
      "dtype: int64\n"
     ]
    }
   ],
   "source": [
    "print(\"The dataset has\",tips.shape[0], \"rows, each with\", tips.shape[1], \"attributes - totalling\", tips.size, \"data values in the dataset.\")\n",
    "print(\"Over the data collection period, the waiter served\", tips['size'].sum(), \"customers in\",tips.shape[0], \"transactions, generating an income of $\", tips[\"total_bill\"].sum(), \". \")\n",
    "print(\"This resulted in tips totalling $\", tips[\"tip\"].sum().round(2), \".\")\n",
    "print(\"The day breakdown is as follows:\")\n",
    "print(tips.groupby(\"day\").size())"
   ]
  },
  {
   "cell_type": "code",
   "execution_count": 5,
   "metadata": {},
   "outputs": [
    {
     "data": {
      "text/html": [
       "<div>\n",
       "<style scoped>\n",
       "    .dataframe tbody tr th:only-of-type {\n",
       "        vertical-align: middle;\n",
       "    }\n",
       "\n",
       "    .dataframe tbody tr th {\n",
       "        vertical-align: top;\n",
       "    }\n",
       "\n",
       "    .dataframe thead th {\n",
       "        text-align: right;\n",
       "    }\n",
       "</style>\n",
       "<table border=\"1\" class=\"dataframe\">\n",
       "  <thead>\n",
       "    <tr style=\"text-align: right;\">\n",
       "      <th></th>\n",
       "      <th>total_bill</th>\n",
       "      <th>tip</th>\n",
       "      <th>sex</th>\n",
       "      <th>smoker</th>\n",
       "      <th>day</th>\n",
       "      <th>time</th>\n",
       "      <th>size</th>\n",
       "    </tr>\n",
       "  </thead>\n",
       "  <tbody>\n",
       "    <tr>\n",
       "      <th>0</th>\n",
       "      <td>16.99</td>\n",
       "      <td>1.01</td>\n",
       "      <td>Female</td>\n",
       "      <td>No</td>\n",
       "      <td>Sun</td>\n",
       "      <td>Dinner</td>\n",
       "      <td>2</td>\n",
       "    </tr>\n",
       "    <tr>\n",
       "      <th>1</th>\n",
       "      <td>10.34</td>\n",
       "      <td>1.66</td>\n",
       "      <td>Male</td>\n",
       "      <td>No</td>\n",
       "      <td>Sun</td>\n",
       "      <td>Dinner</td>\n",
       "      <td>3</td>\n",
       "    </tr>\n",
       "    <tr>\n",
       "      <th>2</th>\n",
       "      <td>21.01</td>\n",
       "      <td>3.50</td>\n",
       "      <td>Male</td>\n",
       "      <td>No</td>\n",
       "      <td>Sun</td>\n",
       "      <td>Dinner</td>\n",
       "      <td>3</td>\n",
       "    </tr>\n",
       "    <tr>\n",
       "      <th>3</th>\n",
       "      <td>23.68</td>\n",
       "      <td>3.31</td>\n",
       "      <td>Male</td>\n",
       "      <td>No</td>\n",
       "      <td>Sun</td>\n",
       "      <td>Dinner</td>\n",
       "      <td>2</td>\n",
       "    </tr>\n",
       "    <tr>\n",
       "      <th>4</th>\n",
       "      <td>24.59</td>\n",
       "      <td>3.61</td>\n",
       "      <td>Female</td>\n",
       "      <td>No</td>\n",
       "      <td>Sun</td>\n",
       "      <td>Dinner</td>\n",
       "      <td>4</td>\n",
       "    </tr>\n",
       "  </tbody>\n",
       "</table>\n",
       "</div>"
      ],
      "text/plain": [
       "   total_bill   tip     sex smoker  day    time  size\n",
       "0       16.99  1.01  Female     No  Sun  Dinner     2\n",
       "1       10.34  1.66    Male     No  Sun  Dinner     3\n",
       "2       21.01  3.50    Male     No  Sun  Dinner     3\n",
       "3       23.68  3.31    Male     No  Sun  Dinner     2\n",
       "4       24.59  3.61  Female     No  Sun  Dinner     4"
      ]
     },
     "execution_count": 5,
     "metadata": {},
     "output_type": "execute_result"
    }
   ],
   "source": [
    "# Now have a look at the data - first the initial few rows to see what they look like\n",
    "tips.head(5) # returns first 5 rows"
   ]
  },
  {
   "cell_type": "code",
   "execution_count": 6,
   "metadata": {},
   "outputs": [
    {
     "data": {
      "text/html": [
       "<div>\n",
       "<style scoped>\n",
       "    .dataframe tbody tr th:only-of-type {\n",
       "        vertical-align: middle;\n",
       "    }\n",
       "\n",
       "    .dataframe tbody tr th {\n",
       "        vertical-align: top;\n",
       "    }\n",
       "\n",
       "    .dataframe thead th {\n",
       "        text-align: right;\n",
       "    }\n",
       "</style>\n",
       "<table border=\"1\" class=\"dataframe\">\n",
       "  <thead>\n",
       "    <tr style=\"text-align: right;\">\n",
       "      <th></th>\n",
       "      <th>total_bill</th>\n",
       "      <th>tip</th>\n",
       "      <th>sex</th>\n",
       "      <th>smoker</th>\n",
       "      <th>day</th>\n",
       "      <th>time</th>\n",
       "      <th>size</th>\n",
       "    </tr>\n",
       "  </thead>\n",
       "  <tbody>\n",
       "    <tr>\n",
       "      <th>239</th>\n",
       "      <td>29.03</td>\n",
       "      <td>5.92</td>\n",
       "      <td>Male</td>\n",
       "      <td>No</td>\n",
       "      <td>Sat</td>\n",
       "      <td>Dinner</td>\n",
       "      <td>3</td>\n",
       "    </tr>\n",
       "    <tr>\n",
       "      <th>240</th>\n",
       "      <td>27.18</td>\n",
       "      <td>2.00</td>\n",
       "      <td>Female</td>\n",
       "      <td>Yes</td>\n",
       "      <td>Sat</td>\n",
       "      <td>Dinner</td>\n",
       "      <td>2</td>\n",
       "    </tr>\n",
       "    <tr>\n",
       "      <th>241</th>\n",
       "      <td>22.67</td>\n",
       "      <td>2.00</td>\n",
       "      <td>Male</td>\n",
       "      <td>Yes</td>\n",
       "      <td>Sat</td>\n",
       "      <td>Dinner</td>\n",
       "      <td>2</td>\n",
       "    </tr>\n",
       "    <tr>\n",
       "      <th>242</th>\n",
       "      <td>17.82</td>\n",
       "      <td>1.75</td>\n",
       "      <td>Male</td>\n",
       "      <td>No</td>\n",
       "      <td>Sat</td>\n",
       "      <td>Dinner</td>\n",
       "      <td>2</td>\n",
       "    </tr>\n",
       "    <tr>\n",
       "      <th>243</th>\n",
       "      <td>18.78</td>\n",
       "      <td>3.00</td>\n",
       "      <td>Female</td>\n",
       "      <td>No</td>\n",
       "      <td>Thur</td>\n",
       "      <td>Dinner</td>\n",
       "      <td>2</td>\n",
       "    </tr>\n",
       "  </tbody>\n",
       "</table>\n",
       "</div>"
      ],
      "text/plain": [
       "     total_bill   tip     sex smoker   day    time  size\n",
       "239       29.03  5.92    Male     No   Sat  Dinner     3\n",
       "240       27.18  2.00  Female    Yes   Sat  Dinner     2\n",
       "241       22.67  2.00    Male    Yes   Sat  Dinner     2\n",
       "242       17.82  1.75    Male     No   Sat  Dinner     2\n",
       "243       18.78  3.00  Female     No  Thur  Dinner     2"
      ]
     },
     "execution_count": 6,
     "metadata": {},
     "output_type": "execute_result"
    }
   ],
   "source": [
    "# Then the last few rows as a check to ensure the data has not gone awry in the middle somewhere\n",
    "tips.tail() # returns last 5 rows"
   ]
  },
  {
   "cell_type": "code",
   "execution_count": 7,
   "metadata": {},
   "outputs": [
    {
     "data": {
      "text/html": [
       "<div>\n",
       "<style scoped>\n",
       "    .dataframe tbody tr th:only-of-type {\n",
       "        vertical-align: middle;\n",
       "    }\n",
       "\n",
       "    .dataframe tbody tr th {\n",
       "        vertical-align: top;\n",
       "    }\n",
       "\n",
       "    .dataframe thead th {\n",
       "        text-align: right;\n",
       "    }\n",
       "</style>\n",
       "<table border=\"1\" class=\"dataframe\">\n",
       "  <thead>\n",
       "    <tr style=\"text-align: right;\">\n",
       "      <th></th>\n",
       "      <th>total_bill</th>\n",
       "      <th>tip</th>\n",
       "      <th>sex</th>\n",
       "      <th>smoker</th>\n",
       "      <th>day</th>\n",
       "      <th>time</th>\n",
       "      <th>size</th>\n",
       "    </tr>\n",
       "  </thead>\n",
       "  <tbody>\n",
       "    <tr>\n",
       "      <th>96</th>\n",
       "      <td>27.28</td>\n",
       "      <td>4.00</td>\n",
       "      <td>Male</td>\n",
       "      <td>Yes</td>\n",
       "      <td>Fri</td>\n",
       "      <td>Dinner</td>\n",
       "      <td>2</td>\n",
       "    </tr>\n",
       "    <tr>\n",
       "      <th>25</th>\n",
       "      <td>17.81</td>\n",
       "      <td>2.34</td>\n",
       "      <td>Male</td>\n",
       "      <td>No</td>\n",
       "      <td>Sat</td>\n",
       "      <td>Dinner</td>\n",
       "      <td>4</td>\n",
       "    </tr>\n",
       "    <tr>\n",
       "      <th>129</th>\n",
       "      <td>22.82</td>\n",
       "      <td>2.18</td>\n",
       "      <td>Male</td>\n",
       "      <td>No</td>\n",
       "      <td>Thur</td>\n",
       "      <td>Lunch</td>\n",
       "      <td>3</td>\n",
       "    </tr>\n",
       "    <tr>\n",
       "      <th>71</th>\n",
       "      <td>17.07</td>\n",
       "      <td>3.00</td>\n",
       "      <td>Female</td>\n",
       "      <td>No</td>\n",
       "      <td>Sat</td>\n",
       "      <td>Dinner</td>\n",
       "      <td>3</td>\n",
       "    </tr>\n",
       "    <tr>\n",
       "      <th>198</th>\n",
       "      <td>13.00</td>\n",
       "      <td>2.00</td>\n",
       "      <td>Female</td>\n",
       "      <td>Yes</td>\n",
       "      <td>Thur</td>\n",
       "      <td>Lunch</td>\n",
       "      <td>2</td>\n",
       "    </tr>\n",
       "  </tbody>\n",
       "</table>\n",
       "</div>"
      ],
      "text/plain": [
       "     total_bill   tip     sex smoker   day    time  size\n",
       "96        27.28  4.00    Male    Yes   Fri  Dinner     2\n",
       "25        17.81  2.34    Male     No   Sat  Dinner     4\n",
       "129       22.82  2.18    Male     No  Thur   Lunch     3\n",
       "71        17.07  3.00  Female     No   Sat  Dinner     3\n",
       "198       13.00  2.00  Female    Yes  Thur   Lunch     2"
      ]
     },
     "execution_count": 7,
     "metadata": {},
     "output_type": "execute_result"
    }
   ],
   "source": [
    "# And finally a random sample to see what else there is in there\n",
    "tips.sample(5) # returns 5 randomly selected rows"
   ]
  },
  {
   "cell_type": "code",
   "execution_count": 8,
   "metadata": {
    "scrolled": true
   },
   "outputs": [
    {
     "data": {
      "text/plain": [
       "total_bill    False\n",
       "tip           False\n",
       "sex           False\n",
       "smoker        False\n",
       "day           False\n",
       "time          False\n",
       "size          False\n",
       "dtype: bool"
      ]
     },
     "execution_count": 8,
     "metadata": {},
     "output_type": "execute_result"
    }
   ],
   "source": [
    "tips.isnull().any()"
   ]
  },
  {
   "cell_type": "code",
   "execution_count": 9,
   "metadata": {},
   "outputs": [
    {
     "name": "stdout",
     "output_type": "stream",
     "text": [
      "Gender Categories: [Female, Male]\n",
      "Categories (2, object): [Female, Male]\n",
      "Smoker Categories: [No, Yes]\n",
      "Categories (2, object): [No, Yes]\n",
      "Day Categories: [Sun, Sat, Thur, Fri]\n",
      "Categories (4, object): [Sun, Sat, Thur, Fri]\n",
      "Time Categories: [Dinner, Lunch]\n",
      "Categories (2, object): [Dinner, Lunch]\n",
      "Party Size Categories: [2 3 4 1 6 5]\n"
     ]
    }
   ],
   "source": [
    "# See what values are in the categorical data\n",
    "print(\"Gender Categories:\",tips[\"sex\"].unique())\n",
    "print(\"Smoker Categories:\",tips[\"smoker\"].unique())\n",
    "print(\"Day Categories:\",tips[\"day\"].unique())\n",
    "print(\"Time Categories:\",tips[\"time\"].unique())\n",
    "print(\"Party Size Categories:\",tips[\"size\"].unique())"
   ]
  },
  {
   "cell_type": "code",
   "execution_count": 10,
   "metadata": {},
   "outputs": [
    {
     "data": {
      "text/html": [
       "<div>\n",
       "<style scoped>\n",
       "    .dataframe tbody tr th:only-of-type {\n",
       "        vertical-align: middle;\n",
       "    }\n",
       "\n",
       "    .dataframe tbody tr th {\n",
       "        vertical-align: top;\n",
       "    }\n",
       "\n",
       "    .dataframe thead th {\n",
       "        text-align: right;\n",
       "    }\n",
       "</style>\n",
       "<table border=\"1\" class=\"dataframe\">\n",
       "  <thead>\n",
       "    <tr style=\"text-align: right;\">\n",
       "      <th></th>\n",
       "      <th>total_bill</th>\n",
       "      <th>tip</th>\n",
       "      <th>sex</th>\n",
       "      <th>smoker</th>\n",
       "      <th>day</th>\n",
       "      <th>time</th>\n",
       "      <th>size</th>\n",
       "      <th>tipPC</th>\n",
       "    </tr>\n",
       "  </thead>\n",
       "  <tbody>\n",
       "    <tr>\n",
       "      <th>count</th>\n",
       "      <td>244.000000</td>\n",
       "      <td>244.000000</td>\n",
       "      <td>244</td>\n",
       "      <td>244</td>\n",
       "      <td>244</td>\n",
       "      <td>244</td>\n",
       "      <td>244.000000</td>\n",
       "      <td>244.000000</td>\n",
       "    </tr>\n",
       "    <tr>\n",
       "      <th>unique</th>\n",
       "      <td>NaN</td>\n",
       "      <td>NaN</td>\n",
       "      <td>2</td>\n",
       "      <td>2</td>\n",
       "      <td>4</td>\n",
       "      <td>2</td>\n",
       "      <td>NaN</td>\n",
       "      <td>NaN</td>\n",
       "    </tr>\n",
       "    <tr>\n",
       "      <th>top</th>\n",
       "      <td>NaN</td>\n",
       "      <td>NaN</td>\n",
       "      <td>Male</td>\n",
       "      <td>No</td>\n",
       "      <td>Sat</td>\n",
       "      <td>Dinner</td>\n",
       "      <td>NaN</td>\n",
       "      <td>NaN</td>\n",
       "    </tr>\n",
       "    <tr>\n",
       "      <th>freq</th>\n",
       "      <td>NaN</td>\n",
       "      <td>NaN</td>\n",
       "      <td>157</td>\n",
       "      <td>151</td>\n",
       "      <td>87</td>\n",
       "      <td>176</td>\n",
       "      <td>NaN</td>\n",
       "      <td>NaN</td>\n",
       "    </tr>\n",
       "    <tr>\n",
       "      <th>mean</th>\n",
       "      <td>19.785943</td>\n",
       "      <td>2.998279</td>\n",
       "      <td>NaN</td>\n",
       "      <td>NaN</td>\n",
       "      <td>NaN</td>\n",
       "      <td>NaN</td>\n",
       "      <td>2.569672</td>\n",
       "      <td>16.080258</td>\n",
       "    </tr>\n",
       "    <tr>\n",
       "      <th>std</th>\n",
       "      <td>8.902412</td>\n",
       "      <td>1.383638</td>\n",
       "      <td>NaN</td>\n",
       "      <td>NaN</td>\n",
       "      <td>NaN</td>\n",
       "      <td>NaN</td>\n",
       "      <td>0.951100</td>\n",
       "      <td>6.107220</td>\n",
       "    </tr>\n",
       "    <tr>\n",
       "      <th>min</th>\n",
       "      <td>3.070000</td>\n",
       "      <td>1.000000</td>\n",
       "      <td>NaN</td>\n",
       "      <td>NaN</td>\n",
       "      <td>NaN</td>\n",
       "      <td>NaN</td>\n",
       "      <td>1.000000</td>\n",
       "      <td>3.563814</td>\n",
       "    </tr>\n",
       "    <tr>\n",
       "      <th>25%</th>\n",
       "      <td>13.347500</td>\n",
       "      <td>2.000000</td>\n",
       "      <td>NaN</td>\n",
       "      <td>NaN</td>\n",
       "      <td>NaN</td>\n",
       "      <td>NaN</td>\n",
       "      <td>2.000000</td>\n",
       "      <td>12.912736</td>\n",
       "    </tr>\n",
       "    <tr>\n",
       "      <th>50%</th>\n",
       "      <td>17.795000</td>\n",
       "      <td>2.900000</td>\n",
       "      <td>NaN</td>\n",
       "      <td>NaN</td>\n",
       "      <td>NaN</td>\n",
       "      <td>NaN</td>\n",
       "      <td>2.000000</td>\n",
       "      <td>15.476977</td>\n",
       "    </tr>\n",
       "    <tr>\n",
       "      <th>75%</th>\n",
       "      <td>24.127500</td>\n",
       "      <td>3.562500</td>\n",
       "      <td>NaN</td>\n",
       "      <td>NaN</td>\n",
       "      <td>NaN</td>\n",
       "      <td>NaN</td>\n",
       "      <td>3.000000</td>\n",
       "      <td>19.147549</td>\n",
       "    </tr>\n",
       "    <tr>\n",
       "      <th>max</th>\n",
       "      <td>50.810000</td>\n",
       "      <td>10.000000</td>\n",
       "      <td>NaN</td>\n",
       "      <td>NaN</td>\n",
       "      <td>NaN</td>\n",
       "      <td>NaN</td>\n",
       "      <td>6.000000</td>\n",
       "      <td>71.034483</td>\n",
       "    </tr>\n",
       "  </tbody>\n",
       "</table>\n",
       "</div>"
      ],
      "text/plain": [
       "        total_bill         tip   sex smoker  day    time        size  \\\n",
       "count   244.000000  244.000000   244    244  244     244  244.000000   \n",
       "unique         NaN         NaN     2      2    4       2         NaN   \n",
       "top            NaN         NaN  Male     No  Sat  Dinner         NaN   \n",
       "freq           NaN         NaN   157    151   87     176         NaN   \n",
       "mean     19.785943    2.998279   NaN    NaN  NaN     NaN    2.569672   \n",
       "std       8.902412    1.383638   NaN    NaN  NaN     NaN    0.951100   \n",
       "min       3.070000    1.000000   NaN    NaN  NaN     NaN    1.000000   \n",
       "25%      13.347500    2.000000   NaN    NaN  NaN     NaN    2.000000   \n",
       "50%      17.795000    2.900000   NaN    NaN  NaN     NaN    2.000000   \n",
       "75%      24.127500    3.562500   NaN    NaN  NaN     NaN    3.000000   \n",
       "max      50.810000   10.000000   NaN    NaN  NaN     NaN    6.000000   \n",
       "\n",
       "             tipPC  \n",
       "count   244.000000  \n",
       "unique         NaN  \n",
       "top            NaN  \n",
       "freq           NaN  \n",
       "mean     16.080258  \n",
       "std       6.107220  \n",
       "min       3.563814  \n",
       "25%      12.912736  \n",
       "50%      15.476977  \n",
       "75%      19.147549  \n",
       "max      71.034483  "
      ]
     },
     "execution_count": 10,
     "metadata": {},
     "output_type": "execute_result"
    }
   ],
   "source": [
    "# Given that the tip is what we are really looking for it makes sense to include it in the dataframe\n",
    "tips[\"tipPC\"] = 100*tips[\"tip\"]/tips[\"total_bill\"]\n",
    "# The describe function gives general statistics on the dataset. \n",
    "# Using the include = \"all\" means we also get the category data too\n",
    "tips.describe(include=\"all\")"
   ]
  },
  {
   "cell_type": "markdown",
   "metadata": {},
   "source": [
    "## <a name=\"info\"></a>2. General Description of the Dataset  \n",
    "The dataset itself has 244 rows, each with 7 attributes equating to 1708 data values in total. The recorded attributes were:\n",
    "- _*total_bill*_ : Total Bill Amount assumed to be US\\\\$. This is a floating point value.\n",
    "- _*tip*_ : Tip amount assumed to be US\\\\$. This is a floating point value.\n",
    "- _*sex*_ : Gender of bill payer. This is categorical data with values of either male or female.\n",
    "- _*smoker*_ : Whether they were a smoker or not. This is categorical data with values of either yes or no.\n",
    "- _*day*_ : What day of the week the transaction occurred. This is categorical data with values spanning between Thurs and Sun.\n",
    "- _*time*_ : Meal the diners were being served. This is categorical data with values of either lunch or dinner.  \n",
    "\n",
    "The first, last and random sampling of rows are intact and there no missing values which leads us to believe the dataset is of good quality.  \n",
    "\n",
    "Over the data collection period, the waiter served 627 customers in 244 transactions, generating an income of \\\\$4827.77 for the restaurant and \\\\$731.58 in tips.  \n",
    "\n",
    "Each individual total bill value ranged from \\\\$3.07 to \\\\$50.81 with the mean being \\\\$19.79. The tips ranged from \\\\$1 to \\\\$10 with the mean being \\\\$3.  \n",
    "\n",
    "Males were the most frequent bill payers and non-smokers were more prevalent than smokers. Saturday was the most popular dining day with dinner being the most served meal in the dataset.\n",
    "[>>>}()"
   ]
  },
  {
   "cell_type": "code",
   "execution_count": 11,
   "metadata": {},
   "outputs": [],
   "source": [
    "# Create dataframes based on the categories\n",
    "dinner = tips.loc[tips[\"time\"] == \"Dinner\"]\n",
    "lunch = tips.loc[tips[\"time\"] == \"Lunch\"]\n",
    "smoker = tips.loc[tips[\"smoker\"] == \"Yes\"]\n",
    "nonsmoker = tips.loc[tips[\"smoker\"] == \"No\"]\n",
    "male = tips.loc[tips[\"sex\"] == \"Male\"]\n",
    "female = tips.loc[tips[\"sex\"] == \"Female\"]\n",
    "thurs = tips.loc[tips[\"day\"] == \"Thur\"]\n",
    "fri = tips.loc[tips[\"day\"] == \"Fri\"]\n",
    "sat = tips.loc[tips[\"day\"] == \"Sat\"]\n",
    "sun = tips.loc[tips[\"day\"] == \"Sun\"]\n",
    "size1 = tips.loc[tips[\"size\"] == 1]\n",
    "size2 = tips.loc[tips[\"size\"] == 2]\n",
    "size3 = tips.loc[tips[\"size\"] == 3]\n",
    "size4 = tips.loc[tips[\"size\"] == 4]\n",
    "size5 = tips.loc[tips[\"size\"] == 5]\n",
    "size6 = tips.loc[tips[\"size\"] == 6]"
   ]
  },
  {
   "cell_type": "code",
   "execution_count": 35,
   "metadata": {},
   "outputs": [
    {
     "data": {
      "text/html": [
       "<div>\n",
       "<style scoped>\n",
       "    .dataframe tbody tr th:only-of-type {\n",
       "        vertical-align: middle;\n",
       "    }\n",
       "\n",
       "    .dataframe tbody tr th {\n",
       "        vertical-align: top;\n",
       "    }\n",
       "\n",
       "    .dataframe thead th {\n",
       "        text-align: right;\n",
       "    }\n",
       "</style>\n",
       "<table border=\"1\" class=\"dataframe\">\n",
       "  <thead>\n",
       "    <tr style=\"text-align: right;\">\n",
       "      <th></th>\n",
       "      <th>Category</th>\n",
       "      <th>Group</th>\n",
       "      <th>Table Count</th>\n",
       "      <th>% Tables</th>\n",
       "      <th>People</th>\n",
       "      <th>% People</th>\n",
       "      <th>Total Bills ($)</th>\n",
       "      <th>% of Total Bills</th>\n",
       "      <th>Bill pp ($)</th>\n",
       "      <th>Total Tips ($)</th>\n",
       "      <th>% Total Tips</th>\n",
       "      <th>Tips pp ($)</th>\n",
       "      <th>Total Tip %</th>\n",
       "    </tr>\n",
       "  </thead>\n",
       "  <tbody>\n",
       "    <tr>\n",
       "      <th>0</th>\n",
       "      <td>Meal</td>\n",
       "      <td>Dinner</td>\n",
       "      <td>176</td>\n",
       "      <td>72.13</td>\n",
       "      <td>463</td>\n",
       "      <td>73.84</td>\n",
       "      <td>3660.30</td>\n",
       "      <td>75.82</td>\n",
       "      <td>7.91</td>\n",
       "      <td>546.07</td>\n",
       "      <td>74.64</td>\n",
       "      <td>1.18</td>\n",
       "      <td>14.92</td>\n",
       "    </tr>\n",
       "    <tr>\n",
       "      <th>1</th>\n",
       "      <td>Meal</td>\n",
       "      <td>Lunch</td>\n",
       "      <td>68</td>\n",
       "      <td>27.87</td>\n",
       "      <td>164</td>\n",
       "      <td>26.16</td>\n",
       "      <td>1167.47</td>\n",
       "      <td>24.18</td>\n",
       "      <td>7.12</td>\n",
       "      <td>185.51</td>\n",
       "      <td>25.36</td>\n",
       "      <td>1.13</td>\n",
       "      <td>15.89</td>\n",
       "    </tr>\n",
       "    <tr>\n",
       "      <th>2</th>\n",
       "      <td>Smoking Status</td>\n",
       "      <td>Smoker</td>\n",
       "      <td>93</td>\n",
       "      <td>38.11</td>\n",
       "      <td>224</td>\n",
       "      <td>35.73</td>\n",
       "      <td>1930.34</td>\n",
       "      <td>39.98</td>\n",
       "      <td>8.62</td>\n",
       "      <td>279.81</td>\n",
       "      <td>38.25</td>\n",
       "      <td>1.25</td>\n",
       "      <td>14.50</td>\n",
       "    </tr>\n",
       "    <tr>\n",
       "      <th>3</th>\n",
       "      <td>Smoking Status</td>\n",
       "      <td>Nonsmoker</td>\n",
       "      <td>151</td>\n",
       "      <td>61.89</td>\n",
       "      <td>403</td>\n",
       "      <td>64.27</td>\n",
       "      <td>2897.43</td>\n",
       "      <td>60.02</td>\n",
       "      <td>7.19</td>\n",
       "      <td>451.77</td>\n",
       "      <td>61.75</td>\n",
       "      <td>1.12</td>\n",
       "      <td>15.59</td>\n",
       "    </tr>\n",
       "    <tr>\n",
       "      <th>4</th>\n",
       "      <td>Gender</td>\n",
       "      <td>Male</td>\n",
       "      <td>157</td>\n",
       "      <td>64.34</td>\n",
       "      <td>413</td>\n",
       "      <td>65.87</td>\n",
       "      <td>3256.82</td>\n",
       "      <td>67.46</td>\n",
       "      <td>7.89</td>\n",
       "      <td>485.07</td>\n",
       "      <td>66.30</td>\n",
       "      <td>1.17</td>\n",
       "      <td>14.89</td>\n",
       "    </tr>\n",
       "    <tr>\n",
       "      <th>5</th>\n",
       "      <td>Gender</td>\n",
       "      <td>Female</td>\n",
       "      <td>87</td>\n",
       "      <td>35.66</td>\n",
       "      <td>214</td>\n",
       "      <td>34.13</td>\n",
       "      <td>1570.95</td>\n",
       "      <td>32.54</td>\n",
       "      <td>7.34</td>\n",
       "      <td>246.51</td>\n",
       "      <td>33.70</td>\n",
       "      <td>1.15</td>\n",
       "      <td>15.69</td>\n",
       "    </tr>\n",
       "    <tr>\n",
       "      <th>6</th>\n",
       "      <td>Day</td>\n",
       "      <td>Thurs</td>\n",
       "      <td>62</td>\n",
       "      <td>25.41</td>\n",
       "      <td>152</td>\n",
       "      <td>24.24</td>\n",
       "      <td>1096.33</td>\n",
       "      <td>22.71</td>\n",
       "      <td>7.21</td>\n",
       "      <td>171.83</td>\n",
       "      <td>23.49</td>\n",
       "      <td>1.13</td>\n",
       "      <td>15.67</td>\n",
       "    </tr>\n",
       "    <tr>\n",
       "      <th>7</th>\n",
       "      <td>Day</td>\n",
       "      <td>Fri</td>\n",
       "      <td>19</td>\n",
       "      <td>7.79</td>\n",
       "      <td>40</td>\n",
       "      <td>6.38</td>\n",
       "      <td>325.88</td>\n",
       "      <td>6.75</td>\n",
       "      <td>8.15</td>\n",
       "      <td>51.96</td>\n",
       "      <td>7.10</td>\n",
       "      <td>1.30</td>\n",
       "      <td>15.94</td>\n",
       "    </tr>\n",
       "    <tr>\n",
       "      <th>8</th>\n",
       "      <td>Day</td>\n",
       "      <td>Sat</td>\n",
       "      <td>87</td>\n",
       "      <td>35.66</td>\n",
       "      <td>219</td>\n",
       "      <td>34.93</td>\n",
       "      <td>1778.40</td>\n",
       "      <td>36.84</td>\n",
       "      <td>8.12</td>\n",
       "      <td>260.40</td>\n",
       "      <td>35.59</td>\n",
       "      <td>1.19</td>\n",
       "      <td>14.64</td>\n",
       "    </tr>\n",
       "    <tr>\n",
       "      <th>9</th>\n",
       "      <td>Day</td>\n",
       "      <td>Sun</td>\n",
       "      <td>76</td>\n",
       "      <td>31.15</td>\n",
       "      <td>216</td>\n",
       "      <td>34.45</td>\n",
       "      <td>1627.16</td>\n",
       "      <td>33.70</td>\n",
       "      <td>7.53</td>\n",
       "      <td>247.39</td>\n",
       "      <td>33.82</td>\n",
       "      <td>1.15</td>\n",
       "      <td>15.20</td>\n",
       "    </tr>\n",
       "    <tr>\n",
       "      <th>10</th>\n",
       "      <td>Party Size</td>\n",
       "      <td>1</td>\n",
       "      <td>4</td>\n",
       "      <td>1.64</td>\n",
       "      <td>4</td>\n",
       "      <td>0.64</td>\n",
       "      <td>28.97</td>\n",
       "      <td>0.60</td>\n",
       "      <td>7.24</td>\n",
       "      <td>5.75</td>\n",
       "      <td>0.79</td>\n",
       "      <td>1.44</td>\n",
       "      <td>19.85</td>\n",
       "    </tr>\n",
       "    <tr>\n",
       "      <th>11</th>\n",
       "      <td>Party Size</td>\n",
       "      <td>2</td>\n",
       "      <td>156</td>\n",
       "      <td>63.93</td>\n",
       "      <td>312</td>\n",
       "      <td>49.76</td>\n",
       "      <td>2565.89</td>\n",
       "      <td>53.15</td>\n",
       "      <td>8.22</td>\n",
       "      <td>402.84</td>\n",
       "      <td>55.06</td>\n",
       "      <td>1.29</td>\n",
       "      <td>15.70</td>\n",
       "    </tr>\n",
       "    <tr>\n",
       "      <th>12</th>\n",
       "      <td>Party Size</td>\n",
       "      <td>3</td>\n",
       "      <td>38</td>\n",
       "      <td>15.57</td>\n",
       "      <td>114</td>\n",
       "      <td>18.18</td>\n",
       "      <td>884.55</td>\n",
       "      <td>18.32</td>\n",
       "      <td>7.76</td>\n",
       "      <td>128.94</td>\n",
       "      <td>17.62</td>\n",
       "      <td>1.13</td>\n",
       "      <td>14.58</td>\n",
       "    </tr>\n",
       "    <tr>\n",
       "      <th>13</th>\n",
       "      <td>Party Size</td>\n",
       "      <td>4</td>\n",
       "      <td>37</td>\n",
       "      <td>15.16</td>\n",
       "      <td>148</td>\n",
       "      <td>23.60</td>\n",
       "      <td>1058.70</td>\n",
       "      <td>21.93</td>\n",
       "      <td>7.15</td>\n",
       "      <td>153.01</td>\n",
       "      <td>20.92</td>\n",
       "      <td>1.03</td>\n",
       "      <td>14.45</td>\n",
       "    </tr>\n",
       "    <tr>\n",
       "      <th>14</th>\n",
       "      <td>Party Size</td>\n",
       "      <td>5</td>\n",
       "      <td>5</td>\n",
       "      <td>2.05</td>\n",
       "      <td>25</td>\n",
       "      <td>3.99</td>\n",
       "      <td>150.34</td>\n",
       "      <td>3.11</td>\n",
       "      <td>6.01</td>\n",
       "      <td>20.14</td>\n",
       "      <td>2.75</td>\n",
       "      <td>0.81</td>\n",
       "      <td>13.40</td>\n",
       "    </tr>\n",
       "    <tr>\n",
       "      <th>15</th>\n",
       "      <td>Party Size</td>\n",
       "      <td>6</td>\n",
       "      <td>4</td>\n",
       "      <td>1.64</td>\n",
       "      <td>24</td>\n",
       "      <td>3.83</td>\n",
       "      <td>139.32</td>\n",
       "      <td>2.89</td>\n",
       "      <td>5.80</td>\n",
       "      <td>20.90</td>\n",
       "      <td>2.86</td>\n",
       "      <td>0.87</td>\n",
       "      <td>15.00</td>\n",
       "    </tr>\n",
       "  </tbody>\n",
       "</table>\n",
       "</div>"
      ],
      "text/plain": [
       "          Category      Group  Table Count  % Tables  People  % People  \\\n",
       "0             Meal     Dinner          176     72.13     463     73.84   \n",
       "1             Meal      Lunch           68     27.87     164     26.16   \n",
       "2   Smoking Status     Smoker           93     38.11     224     35.73   \n",
       "3   Smoking Status  Nonsmoker          151     61.89     403     64.27   \n",
       "4           Gender       Male          157     64.34     413     65.87   \n",
       "5           Gender     Female           87     35.66     214     34.13   \n",
       "6              Day      Thurs           62     25.41     152     24.24   \n",
       "7              Day        Fri           19      7.79      40      6.38   \n",
       "8              Day        Sat           87     35.66     219     34.93   \n",
       "9              Day        Sun           76     31.15     216     34.45   \n",
       "10      Party Size          1            4      1.64       4      0.64   \n",
       "11      Party Size          2          156     63.93     312     49.76   \n",
       "12      Party Size          3           38     15.57     114     18.18   \n",
       "13      Party Size          4           37     15.16     148     23.60   \n",
       "14      Party Size          5            5      2.05      25      3.99   \n",
       "15      Party Size          6            4      1.64      24      3.83   \n",
       "\n",
       "    Total Bills ($)  % of Total Bills  Bill pp ($)  Total Tips ($)  \\\n",
       "0           3660.30             75.82         7.91          546.07   \n",
       "1           1167.47             24.18         7.12          185.51   \n",
       "2           1930.34             39.98         8.62          279.81   \n",
       "3           2897.43             60.02         7.19          451.77   \n",
       "4           3256.82             67.46         7.89          485.07   \n",
       "5           1570.95             32.54         7.34          246.51   \n",
       "6           1096.33             22.71         7.21          171.83   \n",
       "7            325.88              6.75         8.15           51.96   \n",
       "8           1778.40             36.84         8.12          260.40   \n",
       "9           1627.16             33.70         7.53          247.39   \n",
       "10            28.97              0.60         7.24            5.75   \n",
       "11          2565.89             53.15         8.22          402.84   \n",
       "12           884.55             18.32         7.76          128.94   \n",
       "13          1058.70             21.93         7.15          153.01   \n",
       "14           150.34              3.11         6.01           20.14   \n",
       "15           139.32              2.89         5.80           20.90   \n",
       "\n",
       "    % Total Tips  Tips pp ($)  Total Tip %  \n",
       "0          74.64         1.18        14.92  \n",
       "1          25.36         1.13        15.89  \n",
       "2          38.25         1.25        14.50  \n",
       "3          61.75         1.12        15.59  \n",
       "4          66.30         1.17        14.89  \n",
       "5          33.70         1.15        15.69  \n",
       "6          23.49         1.13        15.67  \n",
       "7           7.10         1.30        15.94  \n",
       "8          35.59         1.19        14.64  \n",
       "9          33.82         1.15        15.20  \n",
       "10          0.79         1.44        19.85  \n",
       "11         55.06         1.29        15.70  \n",
       "12         17.62         1.13        14.58  \n",
       "13         20.92         1.03        14.45  \n",
       "14          2.75         0.81        13.40  \n",
       "15          2.86         0.87        15.00  "
      ]
     },
     "execution_count": 35,
     "metadata": {},
     "output_type": "execute_result"
    }
   ],
   "source": [
    "# Create a table to compare data\n",
    "dfs =[dinner, lunch, smoker, nonsmoker, male, female, thurs, fri, sat, sun, size1, size2, size3, size4, size5, size6]\n",
    "cats = [\"Meal\", \"Meal\", \"Smoking Status\", \"Smoking Status\",\"Gender\", \"Gender\", \"Day\", \"Day\", \"Day\", \"Day\", \"Party Size\",  \"Party Size\", \"Party Size\", \"Party Size\", \"Party Size\", \"Party Size\"]\n",
    "cls = [\"Dinner\", \"Lunch\", \"Smoker\", \"Nonsmoker\", \"Male\", \"Female\", \"Thurs\", \"Fri\", \"Sat\", \"Sun\", \"1\", \"2\", \"3\", \"4\", \"5\", \"6\"]\n",
    "totIncome = tips[\"total_bill\"].sum()\n",
    "totTips = tips[\"tip\"].sum()\n",
    "totPeople = tips[\"size\"].sum()\n",
    "\n",
    "table = []\n",
    "for i in range(0,len(dfs)):\n",
    "    row = [cats[i], cls[i], dfs[i][\"total_bill\"].count()]# The number of rows involved\n",
    "    row.append((100*dfs[i][\"total_bill\"].count()/244).round(2)) # Transactions as % of total\n",
    "    row.append(dfs[i][\"size\"].sum()) # Seeing the number of people this represents\n",
    "    row.append((100*dfs[i][\"size\"].sum()/totPeople).round(2)) # # People as % of total\n",
    "    row.append(dfs[i][\"total_bill\"].sum().round(2)) # Total bill for this group\n",
    "    row.append((100*dfs[i][\"total_bill\"].sum()/totIncome).round(2)) # % of total income\n",
    "    row.append((dfs[i][\"total_bill\"].sum()/dfs[i][\"size\"].sum()).round(2)) # Total bill per person for this group\n",
    "    row.append(dfs[i][\"tip\"].sum().round(2)) # Total tips for this group\n",
    "    row.append((100*dfs[i][\"tip\"].sum()/totTips).round(2)) # Tips as % of total tips\n",
    "    row.append((dfs[i][\"tip\"].sum()/dfs[i][\"size\"].sum()).round(2))# Total tips per person for this group\n",
    "    row.append(((dfs[i][\"tip\"].sum()/dfs[i][\"total_bill\"].sum())*100).round(2))# % Tips based on total bill and total tips received for this group\n",
    "    table.append(row)\n",
    "\n",
    "# Header column\n",
    "hdr = ['Category', 'Group', 'Table Count', '% Tables', 'People', '% People', 'Total Bills ($)', '% of Total Bills', 'Bill pp ($)', 'Total Tips ($)', '% Total Tips', 'Tips pp ($)', 'Total Tip %']\n",
    "\n",
    "summarydf = pd.DataFrame(table, columns = hdr)\n",
    "summarydf"
   ]
  },
  {
   "cell_type": "markdown",
   "metadata": {},
   "source": [
    "## <a name=\"cat\"></a> 3. Categorical Data\n",
    "Looking at the categories as a whole we can make a number of important observations.  \n",
    "\n",
    "### <a name = \"meal\"></a>3.1 Meal\n",
    "We can see that 72.13% of all tables served were during a dinner sitting. This equated to 73.84% of the people served. The importance of dinner is further emphasised when you consider 7582% off all income was through dinners.\n",
    "\n",
    "From a tips perspective, dinner accounted for 74.64% of the total tips received. This however equated to t\n",
    "\n",
    "**General Observation**  \n",
    "Based on the rudimentary calculations above, it would appear the best tip as a % of total bill is to be found if the waiter serves lunch on a Friday to a non-smoking woman dining on her own. Mind you this particular scenario accounted for exactly $0 in tips, so I guess the conclusion of this part would be - don't rely on generalities!\n",
    "The most tips however would be obtained by serving a party of 2, non-smokers having dinner on a Saturday where the bill is being paid by a male."
   ]
  },
  {
   "cell_type": "code",
   "execution_count": null,
   "metadata": {},
   "outputs": [],
   "source": [
    "(tips.groupby([\"day\", \"time\", \"sex\", \"smoker\", \"size\"])[\"tip\"].sum() \n",
    "   .sort_values(ascending=False) \n",
    "   .reset_index(name='Total Tips') ).head()"
   ]
  },
  {
   "cell_type": "code",
   "execution_count": null,
   "metadata": {},
   "outputs": [],
   "source": [
    "# Just checking which was the most common day and time\n",
    "(tips.groupby([\"day\", \"time\"]).size() \n",
    "   .sort_values(ascending=False) \n",
    "   .reset_index(name='count') \n",
    "   )"
   ]
  },
  {
   "cell_type": "code",
   "execution_count": null,
   "metadata": {},
   "outputs": [],
   "source": [
    "# Just checking which was the most common scenario - Sunday dinner with two non-smoking males apparently\n",
    "(tips.groupby([\"day\", \"time\", \"sex\", \"smoker\", \"size\"]).size() \n",
    "   .sort_values(ascending=False) \n",
    "   .reset_index(name='count') \n",
    "   ).head()"
   ]
  },
  {
   "cell_type": "code",
   "execution_count": null,
   "metadata": {},
   "outputs": [],
   "source": [
    "tips.describe()"
   ]
  },
  {
   "cell_type": "code",
   "execution_count": null,
   "metadata": {},
   "outputs": [],
   "source": [
    "tips.groupby(\"day\").describe()"
   ]
  },
  {
   "cell_type": "code",
   "execution_count": null,
   "metadata": {},
   "outputs": [],
   "source": [
    "# Found this and thought it was worth trying ...\n",
    "profile = pandas_profiling.ProfileReport(tips)\n",
    "profile"
   ]
  },
  {
   "cell_type": "markdown",
   "metadata": {},
   "source": [
    "This is a really interesting summary of the data - with lots of information, both numeric and graphical contained within it."
   ]
  },
  {
   "cell_type": "markdown",
   "metadata": {},
   "source": [
    "## Start Plotting ##\n",
    "First off we will look at the variables individually.  \n",
    "  \n",
    "_Note: This is preliminary - I will almost certainly not include everything here in final submission._"
   ]
  },
  {
   "cell_type": "code",
   "execution_count": null,
   "metadata": {},
   "outputs": [],
   "source": [
    "sns.distplot(tips['total_bill'],kde=True,bins=30)"
   ]
  },
  {
   "cell_type": "markdown",
   "metadata": {},
   "source": [
    "Looking at the histogram displayed the bulk of the bills fell between the \\\\$10 to \\\\$25 bracket."
   ]
  },
  {
   "cell_type": "code",
   "execution_count": null,
   "metadata": {},
   "outputs": [],
   "source": [
    "sns.distplot(tips['tip'],kde=True,bins=30)"
   ]
  },
  {
   "cell_type": "markdown",
   "metadata": {},
   "source": [
    "And the bulk of the tips were between \\\\$1 and \\\\$3.50, with more outliers than in the bill amounts. Unlike the bill amounts though the outliers are more prevalent on the upward range."
   ]
  },
  {
   "cell_type": "code",
   "execution_count": null,
   "metadata": {
    "scrolled": true
   },
   "outputs": [],
   "source": [
    "sns.distplot(tips['size'],kde=True,bins=30)"
   ]
  },
  {
   "cell_type": "markdown",
   "metadata": {},
   "source": [
    "By far the most prevalent party size was 2 people."
   ]
  },
  {
   "cell_type": "code",
   "execution_count": null,
   "metadata": {
    "scrolled": true
   },
   "outputs": [],
   "source": [
    "sns.distplot(tips[\"tipPC\"],kde=True,bins=30)"
   ]
  },
  {
   "cell_type": "markdown",
   "metadata": {},
   "source": [
    "As we can see from the plot above, most of the tips (as % of the total bill) fall between 10 - 20%, peaking at around the 15%."
   ]
  },
  {
   "cell_type": "code",
   "execution_count": null,
   "metadata": {
    "scrolled": true
   },
   "outputs": [],
   "source": [
    "plt.hist((tips['tip']+tips[\"total_bill\"])%100, 50)"
   ]
  },
  {
   "cell_type": "code",
   "execution_count": null,
   "metadata": {},
   "outputs": [],
   "source": [
    "sns.boxplot(x='day',y='total_bill',data=tips,palette='rainbow')"
   ]
  },
  {
   "cell_type": "code",
   "execution_count": null,
   "metadata": {},
   "outputs": [],
   "source": [
    "sns.boxplot(x=\"day\", y=\"total_bill\", hue=\"sex\", data=tips, palette=\"PRGn\")\n",
    "sns.despine(offset=10, trim=True)"
   ]
  },
  {
   "cell_type": "code",
   "execution_count": null,
   "metadata": {},
   "outputs": [],
   "source": [
    "# Plotting a simple Jointplot:\n",
    "#sns.pairplot(data=tips, hue='sex', palette='icefire', x_vars=['total_bill','size'], y_vars=['tip'], size=6, aspect=.85, kind='reg')\n",
    "sns.pairplot(data=tips, x_vars=['day'], y_vars=['total_bill','tip'], size=6, aspect=.85, kind='scatter')"
   ]
  },
  {
   "cell_type": "markdown",
   "metadata": {},
   "source": [
    "## Plotting the Categorical Data ##"
   ]
  },
  {
   "cell_type": "code",
   "execution_count": null,
   "metadata": {},
   "outputs": [],
   "source": [
    "sns.catplot(x=\"day\", y=\"total_bill\", hue=\"sex\",\n",
    "            kind=\"violin\", inner=\"stick\", split=True,\n",
    "            palette=\"pastel\", data=tips);"
   ]
  },
  {
   "cell_type": "code",
   "execution_count": null,
   "metadata": {},
   "outputs": [],
   "source": [
    "sns.catplot(x=\"day\", y=\"total_bill\", hue=\"smoker\",\n",
    "            kind=\"violin\", inner=\"stick\", split=True,\n",
    "            palette=\"pastel\", data=tips);"
   ]
  },
  {
   "cell_type": "code",
   "execution_count": null,
   "metadata": {},
   "outputs": [],
   "source": [
    "sns.catplot(x=\"day\", y=\"total_bill\", hue=\"time\",\n",
    "            kind=\"violin\", inner=\"stick\", split=True,\n",
    "            palette=\"pastel\", data=tips);"
   ]
  },
  {
   "cell_type": "markdown",
   "metadata": {},
   "source": [
    "## Bi-Variate Plotting ##"
   ]
  },
  {
   "cell_type": "code",
   "execution_count": null,
   "metadata": {},
   "outputs": [],
   "source": [
    "sns.pairplot(tips)"
   ]
  },
  {
   "cell_type": "code",
   "execution_count": null,
   "metadata": {},
   "outputs": [],
   "source": [
    "sns.pairplot(tips, hue = \"time\")"
   ]
  },
  {
   "cell_type": "code",
   "execution_count": null,
   "metadata": {},
   "outputs": [],
   "source": [
    "sns.pairplot(tips, hue = \"sex\")"
   ]
  },
  {
   "cell_type": "code",
   "execution_count": null,
   "metadata": {},
   "outputs": [],
   "source": [
    "sns.pairplot(tips, hue = \"smoker\")"
   ]
  },
  {
   "cell_type": "code",
   "execution_count": null,
   "metadata": {},
   "outputs": [],
   "source": [
    "sns.pairplot(tips, hue = \"day\")"
   ]
  },
  {
   "cell_type": "code",
   "execution_count": null,
   "metadata": {},
   "outputs": [],
   "source": [
    "sns.pairplot(tips, hue = \"size\")"
   ]
  },
  {
   "cell_type": "code",
   "execution_count": null,
   "metadata": {},
   "outputs": [],
   "source": [
    "# Get the regression line using all the data\n",
    "t_slope, t_intercept, t_r2, t_p, t_stdErr = stats.linregress(tips[\"total_bill\"], tips[\"tip\"])"
   ]
  },
  {
   "cell_type": "code",
   "execution_count": null,
   "metadata": {},
   "outputs": [],
   "source": [
    "# See how good a fit it is\n",
    "t_r2"
   ]
  },
  {
   "cell_type": "code",
   "execution_count": null,
   "metadata": {},
   "outputs": [],
   "source": [
    "# Plot both the raw data and the \"best fit\" line\n",
    "plt.plot(tips[\"total_bill\"], tips[\"tip\"], 'o', label='original data')\n",
    "plt.plot(tips[\"total_bill\"], t_intercept + t_slope*tips[\"total_bill\"], 'r', label='fitted line')\n",
    "plt.legend()\n",
    "plt.show()"
   ]
  },
  {
   "cell_type": "code",
   "execution_count": null,
   "metadata": {},
   "outputs": [],
   "source": [
    "# Another view on the data \n",
    "sns.lmplot(x=\"size\", y=\"tipPC\", data=tips)"
   ]
  },
  {
   "cell_type": "code",
   "execution_count": null,
   "metadata": {},
   "outputs": [],
   "source": [
    "# Time of day comparison\n",
    "# Get the regression line using all the data\n",
    "d_slope, d_intercept, d_r2, d_p, d_stdErr = stats.linregress(dinner[\"total_bill\"], dinner[\"tip\"])\n",
    "l_slope, l_intercept, l_r2, l_p, l_stdErr = stats.linregress(lunch[\"total_bill\"], lunch[\"tip\"])\n",
    "print(\"r^2 dinner (Dataset size\", len(dinner.index), \"rows) = \", d_r2)\n",
    "print(\"r^2 lunch (Dataset size\", len(lunch.index), \"rows) = \", l_r2)"
   ]
  },
  {
   "cell_type": "code",
   "execution_count": null,
   "metadata": {},
   "outputs": [],
   "source": [
    "# Check if the time values are statistically different\n",
    "print(\"T-Test Results\")\n",
    "print(\"Total Bill results:\", stats.ttest_ind(dinner['total_bill'], lunch['total_bill']))\n",
    "print(\"Tip results:\", stats.ttest_ind(dinner['tip'], lunch['tip']))\n",
    "print(\"Party Size results:\", stats.ttest_ind(dinner['size'], lunch['size']))\n",
    "print(\"% Tip of Total Bill results:\", stats.ttest_ind(dinner['tipPC'], lunch['tipPC']))"
   ]
  },
  {
   "cell_type": "code",
   "execution_count": null,
   "metadata": {},
   "outputs": [],
   "source": [
    "plt.rcParams['figure.figsize'] = [16, 6]\n",
    "\n",
    "# Plot both the raw data and the \"best fit\" lines\n",
    "fig, (ax1, ax2) = plt.subplots(1, 2, sharey=True)\n",
    "\n",
    "ax1.plot(dinner[\"total_bill\"], dinner[\"tip\"], 'ko', label='original dinner data')\n",
    "ax1.plot(dinner[\"total_bill\"], t_intercept + t_slope*dinner[\"total_bill\"], 'r', label='fitted dinner line')\n",
    "ax1.legend()\n",
    "ax2.plot(lunch[\"total_bill\"], lunch[\"tip\"], 'go', label='original lunch data')\n",
    "ax2.plot(lunch[\"total_bill\"], t_intercept + t_slope*lunch[\"total_bill\"], 'b', label='fitted lunch line')\n",
    "ax2.legend()\n",
    "\n",
    "# Set labels\n",
    "ax1.set_xlabel('Total Bill Amount ($)')\n",
    "ax2.set_xlabel('Total Bill Amount ($)')\n",
    "ax1.set_ylabel('Tip Amount ($)')\n",
    "fig.suptitle('Time of Day Comparison', fontsize=18)\n",
    "ax1.set_title('Dinner',fontsize=14)\n",
    "ax2.set_title('Lunch',fontsize=14)\n",
    "plt.show()"
   ]
  },
  {
   "cell_type": "code",
   "execution_count": null,
   "metadata": {},
   "outputs": [],
   "source": [
    "# Smoker comparison\n",
    "# Get the regression line using all the data\n",
    "s_slope, s_intercept, s_r2, s_p, s_stdErr = stats.linregress(smoker[\"total_bill\"], smoker[\"tip\"])\n",
    "ns_slope, ns_intercept, ns_r2, ns_p, ns_stdErr = stats.linregress(nonsmoker[\"total_bill\"], nonsmoker[\"tip\"])\n",
    "print(\"r^2 smokers (Dataset size\", len(smoker.index), \"rows) = \", s_r2)\n",
    "print(\"r^2 non-smokers (Dataset size\", len(nonsmoker.index), \"rows) = \", ns_r2)"
   ]
  },
  {
   "cell_type": "code",
   "execution_count": null,
   "metadata": {},
   "outputs": [],
   "source": [
    "# Check if the smoking status values are statistically different\n",
    "print(\"T-Test Results\")\n",
    "print(\"Total results:\", stats.ttest_ind(smoker['total_bill'], nonsmoker['total_bill']))\n",
    "print(\"Tip results:\", stats.ttest_ind(smoker['tip'], nonsmoker['tip']))\n",
    "print(\"Party Size results:\", stats.ttest_ind(smoker['size'], nonsmoker['size']))\n",
    "print(\"% Tip of Total Bill results:\", stats.ttest_ind(smoker['tipPC'], nonsmoker['tipPC']))"
   ]
  },
  {
   "cell_type": "code",
   "execution_count": null,
   "metadata": {},
   "outputs": [],
   "source": [
    "plt.rcParams['figure.figsize'] = [16, 6]\n",
    "#fig=plt.figure(figsize=(5, 10),  facecolor='w', edgecolor='k')\n",
    "# Plot both the raw data and the \"best fit\" lines\n",
    "fig, (ax1, ax2) = plt.subplots(1, 2, sharey=True)\n",
    "\n",
    "ax1.plot(smoker[\"total_bill\"], smoker[\"tip\"], 'ko', label='original smoker data')\n",
    "ax1.plot(smoker[\"total_bill\"], s_intercept + s_slope*smoker[\"total_bill\"], 'r', label='fitted smoker line')\n",
    "ax1.legend()\n",
    "ax2.plot(nonsmoker[\"total_bill\"], nonsmoker[\"tip\"], 'go', label='original non-smoker data')\n",
    "ax2.plot(nonsmoker[\"total_bill\"], ns_intercept + ns_slope*nonsmoker[\"total_bill\"], 'b', label='fitted non-smoker line')\n",
    "ax2.legend()\n",
    "\n",
    "# Set labels\n",
    "ax1.set_xlabel('Total Bill Amount ($)')\n",
    "ax2.set_xlabel('Total Bill Amount ($)')\n",
    "ax1.set_ylabel('Tip Amount ($)')\n",
    "fig.suptitle('Smoker / Non-Smoker Comparison', fontsize=18)\n",
    "ax1.set_title('Smoker',fontsize=14)\n",
    "ax2.set_title('Non-Smoker',fontsize=14)\n",
    "plt.show()"
   ]
  },
  {
   "cell_type": "code",
   "execution_count": null,
   "metadata": {},
   "outputs": [],
   "source": [
    "# Gender comparison\n",
    "# Get the regression line using all the data\n",
    "m_slope, m_intercept, m_r2, m_p, m_stdErr = stats.linregress(male[\"total_bill\"], male[\"tip\"])\n",
    "f_slope, f_intercept, f_r2, f_p, f_stdErr = stats.linregress(female[\"total_bill\"], female[\"tip\"])\n",
    "print(\"r^2 male (Dataset size\", len(male.index), \"rows) = \", m_r2)\n",
    "print(\"r^2 female (Dataset size\", len(female.index), \"rows) = \", f_r2)"
   ]
  },
  {
   "cell_type": "code",
   "execution_count": null,
   "metadata": {
    "scrolled": true
   },
   "outputs": [],
   "source": [
    "plt.rcParams['figure.figsize'] = [16, 6]\n",
    "#fig=plt.figure(figsize=(5, 10),  facecolor='w', edgecolor='k')\n",
    "# Plot both the raw data and the \"best fit\" lines\n",
    "fig, (ax1, ax2) = plt.subplots(1, 2, sharey=True)\n",
    "\n",
    "ax1.plot(male[\"total_bill\"], male[\"tip\"], 'ko', label='original male data')\n",
    "ax1.plot(male[\"total_bill\"], m_intercept + m_slope*male[\"total_bill\"], 'r', label='fitted male line')\n",
    "ax1.legend()\n",
    "ax2.plot(female[\"total_bill\"], female[\"tip\"], 'go', label='original female data')\n",
    "ax2.plot(female[\"total_bill\"], f_intercept + f_slope*female[\"total_bill\"], 'b', label='fitted female line')\n",
    "ax2.legend()\n",
    "\n",
    "# Set labels\n",
    "ax1.set_xlabel('Total Bill Amount ($)')\n",
    "ax2.set_xlabel('Total Bill Amount ($)')\n",
    "ax1.set_ylabel('Tip Amount ($)')\n",
    "fig.suptitle('Gender Comparison', fontsize=18)\n",
    "ax1.set_title('Male',fontsize=14)\n",
    "ax2.set_title('Female',fontsize=14)\n",
    "plt.show()"
   ]
  },
  {
   "cell_type": "code",
   "execution_count": null,
   "metadata": {},
   "outputs": [],
   "source": [
    "# Check if the gender values are statistically different\n",
    "print(\"T-Test Results\")\n",
    "print(\"Total Bill results:\", stats.ttest_ind(male['total_bill'], female['total_bill']))\n",
    "print(\"Tip results:\", stats.ttest_ind(male['tip'], female['tip']))\n",
    "print(\"Party Size results:\", stats.ttest_ind(male['size'], female['size']))\n",
    "print(\"% Tip of Total Bill results:\", stats.ttest_ind(male['tipPC'], female['tipPC']))"
   ]
  },
  {
   "cell_type": "code",
   "execution_count": null,
   "metadata": {},
   "outputs": [],
   "source": [
    "# Party Size comparison\n",
    "# Get the regression line using all the data\n",
    "s1_slope, s1_intercept, s1_r2, s1_p, s1_stdErr = stats.linregress(size1[\"total_bill\"], size1[\"tip\"])\n",
    "s2_slope, s2_intercept, s2_r2, s2_p, s2_stdErr = stats.linregress(size2[\"total_bill\"], size2[\"tip\"])\n",
    "s3_slope, s3_intercept, s3_r2, s3_p, s3_stdErr = stats.linregress(size3[\"total_bill\"], size3[\"tip\"])\n",
    "s4_slope, s4_intercept, s4_r2, s4_p, s4_stdErr = stats.linregress(size4[\"total_bill\"], size4[\"tip\"])\n",
    "s5_slope, s5_intercept, s5_r2, s5_p, s5_stdErr = stats.linregress(size5[\"total_bill\"], size5[\"tip\"])\n",
    "s6_slope, s6_intercept, s6_r2, s6_p, s6_stdErr = stats.linregress(size6[\"total_bill\"], size6[\"tip\"])\n",
    "print(\"r^2 Party Size 1 (Dataset size\", len(size1.index), \"rows) = \", s1_r2)\n",
    "print(\"r^2 Party Size 2 (Dataset size\", len(size2.index), \"rows) = \", s2_r2)\n",
    "print(\"r^2 Party Size 3 (Dataset size\", len(size3.index), \"rows) = \", s3_r2)\n",
    "print(\"r^2 Party Size 4 (Dataset size\", len(size4.index), \"rows) = \", s4_r2)\n",
    "print(\"r^2 Party Size 5 (Dataset size\", len(size5.index), \"rows) = \", s5_r2)\n",
    "print(\"r^2 Party Size 6 (Dataset size\", len(size6.index), \"rows) = \", s6_r2)"
   ]
  },
  {
   "cell_type": "code",
   "execution_count": null,
   "metadata": {},
   "outputs": [],
   "source": [
    "plt.rcParams['figure.figsize'] = [16,16]\n",
    "\n",
    "# Plot both the raw data and the \"best fit\" lines\n",
    "fig, ((ax1, ax2), (ax3, ax4), ( ax5, ax6)) = plt.subplots(3, 2, sharey=True)\n",
    "\n",
    "ax1.plot(size1[\"total_bill\"], size1[\"tip\"], 'ko', label='original 1 person data')\n",
    "ax1.plot(size1[\"total_bill\"], s1_intercept + s1_slope*size1[\"total_bill\"], 'r', label='fitted 1 person line')\n",
    "ax1.legend()\n",
    "ax2.plot(size2[\"total_bill\"], size2[\"tip\"], 'go', label='original 2 people data')\n",
    "ax2.plot(size2[\"total_bill\"], s2_intercept + s2_slope*size2[\"total_bill\"], 'b', label='fitted 2 people line')\n",
    "ax2.legend()\n",
    "ax3.plot(size3[\"total_bill\"], size3[\"tip\"], 'ko', label='original 3 people data')\n",
    "ax3.plot(size3[\"total_bill\"], s3_intercept + s3_slope*size3[\"total_bill\"], 'r', label='fitted 3 people line')\n",
    "ax3.legend()\n",
    "ax4.plot(size4[\"total_bill\"], size4[\"tip\"], 'go', label='original 4 people data')\n",
    "ax4.plot(size4[\"total_bill\"], s4_intercept + s4_slope*size4[\"total_bill\"], 'b', label='fitted 4 people line')\n",
    "ax4.legend()\n",
    "ax5.plot(size5[\"total_bill\"], size5[\"tip\"], 'ko', label='original 5 people data')\n",
    "ax5.plot(size5[\"total_bill\"], s5_intercept + s5_slope*size5[\"total_bill\"], 'r', label='fitted 5 people line')\n",
    "ax5.legend()\n",
    "ax6.plot(size6[\"total_bill\"], size6[\"tip\"], 'go', label='original 6 people data')\n",
    "ax6.plot(size6[\"total_bill\"], s6_intercept + s6_slope*size6[\"total_bill\"], 'b', label='fitted 6 people line')\n",
    "ax6.legend()\n",
    "\n",
    "# Set labels\n",
    "ax1.set_xlabel('Total Bill Amount ($)')\n",
    "ax2.set_xlabel('Total Bill Amount ($)')\n",
    "ax3.set_xlabel('Total Bill Amount ($)')\n",
    "ax4.set_xlabel('Total Bill Amount ($)')\n",
    "ax5.set_xlabel('Total Bill Amount ($)')\n",
    "ax6.set_xlabel('Total Bill Amount ($)')\n",
    "ax1.set_ylabel('Tip Amount ($)')\n",
    "ax3.set_ylabel('Tip Amount ($)')\n",
    "ax5.set_ylabel('Tip Amount ($)')\n",
    "fig.suptitle('Size of Party Comparison', fontsize=18)\n",
    "ax1.set_title('1 Person',fontsize=14)\n",
    "ax2.set_title('2 People',fontsize=14)\n",
    "ax3.set_title('3 People',fontsize=14)\n",
    "ax4.set_title('4 People',fontsize=14)\n",
    "ax5.set_title('5 People',fontsize=14)\n",
    "ax6.set_title('6 People',fontsize=14)\n",
    "plt.show()"
   ]
  },
  {
   "cell_type": "code",
   "execution_count": null,
   "metadata": {},
   "outputs": [],
   "source": [
    "# Check if the time values are statistically different\n",
    "print(\"ANOVA Results\")\n",
    "print(\"Total Bill Results\", stats.f_oneway(size1['total_bill'], size2['total_bill'], size3['total_bill'], size4['total_bill'], size5['total_bill'], size6['total_bill']))\n",
    "print(\"Tip Results\", stats.f_oneway(size1['tip'], size2['tip'], size3['tip'], size4['tip'], size5['tip'], size6['tip']))\n",
    "print(\"% Tip of Total Bill Results\", stats.f_oneway(size1['tipPC'], size2['tipPC'], size3['tipPC'], size4['tipPC'], size5['tipPC'], size6['tipPC']))"
   ]
  },
  {
   "cell_type": "code",
   "execution_count": null,
   "metadata": {},
   "outputs": [],
   "source": [
    "fig, (ax1, ax2) = plt.subplots(ncols=2)\n",
    "sns.jointplot(x = 'size', y = 'total_bill', data = tips, kind = 'reg', ax = ax1)\n",
    "sns.jointplot(x = 'size', y = 'tip', data = tips, kind = 'reg', ax = ax2)"
   ]
  },
  {
   "cell_type": "code",
   "execution_count": null,
   "metadata": {},
   "outputs": [],
   "source": [
    "table = [[\"Smokers\", len(smoker.index), s_slope, s_intercept, s_r2, s_p, s_stdErr], \\\n",
    "         [\"Non-Smokers\", len(nonsmoker.index), ns_slope, ns_intercept, ns_r2, ns_p, ns_stdErr], \\\n",
    "         [\"Male\", len(male.index), m_slope, m_intercept, m_r2, m_p, m_stdErr], \\\n",
    "         [\"Female\", len(female.index), f_slope, f_intercept, f_r2, f_p, f_stdErr], \\\n",
    "         [\"Lunch\", len(lunch.index), l_slope, l_intercept, l_r2, l_p, l_stdErr], \\\n",
    "         [\"Dinner\", len(dinner.index), d_slope, d_intercept, d_r2, d_p, d_stdErr], \\\n",
    "         [\"Party of 1\", len(size1.index), s1_slope, s1_intercept, s1_r2, s1_p, s1_stdErr], \\\n",
    "         [\"Party of 2\", len(size2.index), s2_slope, s2_intercept, s2_r2, s2_p, s2_stdErr], \\\n",
    "         [\"Party of 3\", len(size3.index), s3_slope, s3_intercept, s3_r2, s3_p, s3_stdErr], \\\n",
    "         [\"Party of 4\", len(size4.index), s4_slope, s4_intercept, s4_r2, s4_p, s4_stdErr], \\\n",
    "         [\"Party of 5\", len(size5.index), s5_slope, s5_intercept, s5_r2, s5_p, s5_stdErr], \\\n",
    "         [\"Party of 6\", len(size6.index), s6_slope, s6_intercept, s6_r2, s6_p, s6_stdErr]]\n",
    "hdr = [\"Category\", \"Sample Size\", \"Slope\", \"Intercept\", \"R^2 Value\", \"P-Value\", \"Std Error\"]\n",
    "print(tabulate(table, headers = hdr,  tablefmt=\"grid\"))"
   ]
  },
  {
   "cell_type": "code",
   "execution_count": null,
   "metadata": {},
   "outputs": [],
   "source": [
    "# Size comparison\n",
    "# Get the regression line using all the data\n",
    "bs_slope, bs_intercept, bs_r2, bs_p, bs_stdErr = stats.linregress(tips[\"total_bill\"], tips[\"size\"])\n",
    "ts_slope, ts_intercept, ts_r2, ts_p, ts_stdErr = stats.linregress(tips[\"tip\"], tips[\"size\"])\n",
    "print(\"r^2 Size vs Total Bill = \", bs_r2)\n",
    "print(\"r^2 Size vs Tip = \", ts_r2)"
   ]
  },
  {
   "cell_type": "code",
   "execution_count": null,
   "metadata": {
    "scrolled": true
   },
   "outputs": [],
   "source": [
    "plt.rcParams['figure.figsize'] = [16, 6]\n",
    "#fig=plt.figure(figsize=(5, 10),  facecolor='w', edgecolor='k')\n",
    "# Plot both the raw data and the \"best fit\" lines\n",
    "fig, (ax1, ax2) = plt.subplots(1, 2, sharey=True)\n",
    "\n",
    "ax1.plot(tips[\"total_bill\"], tips[\"size\"], 'ko', label='original size / bill data')\n",
    "ax1.plot(tips[\"total_bill\"], bs_intercept + bs_slope*tips[\"total_bill\"], 'r', label='fitted size / bill line')\n",
    "ax1.legend()\n",
    "ax2.plot(tips[\"tip\"], tips[\"size\"], 'go', label='original size / tip data')\n",
    "ax2.plot(tips[\"tip\"], ts_intercept + ts_slope*tips[\"tip\"], 'b', label='fitted size / tip line')\n",
    "ax2.legend()\n",
    "\n",
    "# Set labels\n",
    "ax1.set_xlabel('Total Bill Amount ($)')\n",
    "ax2.set_xlabel('Tip Amount ($)')\n",
    "ax1.set_ylabel('Party Size')\n",
    "fig.suptitle('Influence of Party Size', fontsize=18)\n",
    "ax1.set_title('Total Bill',fontsize=14)\n",
    "ax2.set_title('Tip',fontsize=14)\n",
    "plt.show()"
   ]
  },
  {
   "cell_type": "markdown",
   "metadata": {},
   "source": [
    "Looking at how the party size influences both the total bill and the tip - it is clear that the tip amount does not have as good correlation with the party size as the total bill amount does. "
   ]
  },
  {
   "cell_type": "code",
   "execution_count": null,
   "metadata": {
    "scrolled": true
   },
   "outputs": [],
   "source": [
    "# Size comparison\n",
    "# Get the regression line using all the data\n",
    "rs_slope, rs_intercept, rs_r2, rs_p, rs_stdErr = stats.linregress(tips[\"tipPC\"], tips[\"size\"])\n",
    "print(\"r^2 Size vs % Tip = \", rs_r2)\n",
    "\n",
    "plt.rcParams['figure.figsize'] = [16, 6]\n",
    "#fig=plt.figure(figsize=(5, 10),  facecolor='w', edgecolor='k')\n",
    "# Plot both the raw data and the \"best fit\" lines\n",
    "\n",
    "plt.plot(tips[\"tipPC\"], tips[\"size\"], 'ko', label='original size / % data')\n",
    "plt.plot(tips[\"tipPC\"], rs_intercept + rs_slope*tips[\"tipPC\"], 'r', label='fitted size / % line')\n",
    "plt.legend()\n",
    "\n",
    "# Set labels\n",
    "plt.xlabel('% Tip of Total Bill')\n",
    "plt.ylabel('Party Size')\n",
    "plt.title('Influence of Party Size',fontsize=14)\n",
    "plt.show()"
   ]
  },
  {
   "cell_type": "code",
   "execution_count": null,
   "metadata": {},
   "outputs": [],
   "source": [
    "# Divide the dataset into inputs and outputs\n",
    "# Inputs = the data we know\n",
    "# Output = what we are looking for\n",
    "inputs_tb = tips[['total_bill']]\n",
    "outputs_tb = tips['tip']\n",
    "# Build the neural network\n",
    "model_tb = Sequential()\n",
    "model_tb.add(Dense(25, input_dim=inputs_tb.shape[1], activation='relu')) # Hidden 1\n",
    "model_tb.add(Dense(10, activation='relu')) # Hidden 2\n",
    "model_tb.add(Dense(1)) # Output\n",
    "model_tb.compile(loss='mean_squared_error', optimizer='adam')\n",
    "model_tb.fit(inputs_tb,outputs_tb,verbose=2,epochs=100)"
   ]
  },
  {
   "cell_type": "code",
   "execution_count": null,
   "metadata": {},
   "outputs": [],
   "source": [
    "pred_tb = model_tb.predict(inputs_tb)\n",
    "print(\"Shape: {}\".format(pred_tb.shape))\n",
    "print(pred_tb)"
   ]
  },
  {
   "cell_type": "code",
   "execution_count": null,
   "metadata": {},
   "outputs": [],
   "source": [
    "# Measure RMSE error.  RMSE is common for regression.\n",
    "score_tb = np.sqrt(metrics.mean_squared_error(pred_tb,outputs_tb))\n",
    "print(f\"Final score (RMSE): {score_tb}\")"
   ]
  },
  {
   "cell_type": "code",
   "execution_count": null,
   "metadata": {},
   "outputs": [],
   "source": [
    "# Sample predictions\n",
    "for i in range(10):\n",
    "    #    print(f\"{i+1}. Car name: {cars[i]}, MPG: {y[i]}, predicted MPG: {pred[i]}\")\n",
    "    print(f\"{i+1}. Total Bill: {inputs_tb['total_bill'][i]}, Actual Tip: {outputs_tb[i]}, predicted tip: {pred_tb[i]}\")"
   ]
  },
  {
   "cell_type": "code",
   "execution_count": null,
   "metadata": {},
   "outputs": [],
   "source": [
    "# Divide the dataset into inputs and outputs\n",
    "# Inputs = the data we know\n",
    "# Output = what we are looking for\n",
    "inputs_tbs = tips[['total_bill', 'size']]\n",
    "outputs_tbs = tips['tip']\n",
    "# Build the neural network\n",
    "model_tbs = Sequential()\n",
    "model_tbs.add(Dense(25, input_dim=inputs_tbs.shape[1], activation='relu')) # Hidden 1\n",
    "model_tbs.add(Dense(10, activation='relu')) # Hidden 2\n",
    "model_tbs.add(Dense(1)) # Output\n",
    "model_tbs.compile(loss='mean_squared_error', optimizer='adam')\n",
    "model_tbs.fit(inputs_tbs,outputs_tbs,verbose=2,epochs=100)"
   ]
  },
  {
   "cell_type": "code",
   "execution_count": null,
   "metadata": {},
   "outputs": [],
   "source": [
    "pred_tbs = model_tbs.predict(inputs_tbs)\n",
    "print(\"Shape: {}\".format(pred_tbs.shape))\n",
    "print(pred_tbs)"
   ]
  },
  {
   "cell_type": "code",
   "execution_count": null,
   "metadata": {},
   "outputs": [],
   "source": [
    "# Measure RMSE error.  RMSE is common for regression.\n",
    "score_tbs = np.sqrt(metrics.mean_squared_error(pred_tbs,outputs_tbs))\n",
    "print(f\"Final score (RMSE): {score_tbs}\")"
   ]
  },
  {
   "cell_type": "code",
   "execution_count": null,
   "metadata": {},
   "outputs": [],
   "source": [
    "# Sample predictions\n",
    "for i in range(10):\n",
    "    print(f\"{i+1}. Total Bill: {inputs_tbs['total_bill'][i]}, Size: {inputs_tbs['size'][i]} Actual Tip: {outputs_tbs[i]}, predicted tip: {pred_tbs[i]}\")"
   ]
  },
  {
   "cell_type": "code",
   "execution_count": null,
   "metadata": {},
   "outputs": [],
   "source": [
    "# Sample predictions\n",
    "for i in range(10):\n",
    "    print(f\"{i+1}. Total Bill: {inputs_tbs['total_bill'][i]}, Size: {inputs_tbs['size'][i]} Actual Tip: {outputs_tbs[i]}, predicted tip: {pred_tb[i]}, predicted tip(Size): {pred_tbs[i]}\")"
   ]
  },
  {
   "cell_type": "code",
   "execution_count": null,
   "metadata": {},
   "outputs": [],
   "source": [
    "plt.plot(inputs_tb['total_bill'], outputs_tb, \"g-\")\n",
    "plt.plot(inputs_tb['total_bill'], pred_tb, \"r-\")\n"
   ]
  },
  {
   "cell_type": "code",
   "execution_count": null,
   "metadata": {},
   "outputs": [],
   "source": [
    "# Sample predictions\n",
    "var_tbs=[]\n",
    "var_tb=[]\n",
    "for i in range(len(outputs_tbs)):\n",
    "    var_tbs.append(outputs_tbs[i] - pred_tbs[i])\n",
    "    var_tb.append(outputs_tb[i] - pred_tb[i])\n",
    "plt.plot(var_tbs, \"g-\")\n",
    "plt.plot(var_tb, \"r-\")\n"
   ]
  },
  {
   "cell_type": "code",
   "execution_count": null,
   "metadata": {},
   "outputs": [],
   "source": [
    "table = [[\"Mean\", np.mean(var_tb), np.mean(var_tbs)], \\\n",
    "         [\"Minimum\", np.min(var_tb), np.min(var_tbs)], \\\n",
    "         [\"Maximum\", np.max(var_tb), np.max(var_tbs)], \\\n",
    "         [\"Standard Devation\", np.std(var_tb), np.std(var_tbs)]]\n",
    "hdr = [\"Category\", \"Total Bill Only\", \"Total Bill & Size\"]\n",
    "print(tabulate(table, headers = hdr,  tablefmt=\"grid\"))"
   ]
  },
  {
   "cell_type": "markdown",
   "metadata": {},
   "source": [
    "Data is most meaningful when it is collected for a purpose. In that way you can state the conditions under which it is collected, what decisional information is to be garnered from the data etc. The data in this dataset is not gathered under such conditions and therefore any analysis will be tempered by the lack of understanding of its collection. \n",
    "\n",
    "The analysis itself may be taken from a number of different perspectives and tailored to suit the requirements. In the absence of such governing principles, it has been decided to see what we can infer from the existing data based on a number of assumptions. These assumptions will be stated from each perspective below. To start we will begin with the general analysis.\n",
    "\n",
    "## General Analysis\n",
    "**Assumptions:** None  \n"
   ]
  },
  {
   "cell_type": "markdown",
   "metadata": {},
   "source": [
    "### References ###\n",
    "[1] [Seaborn: Tips Dataset](https://github.com/mwaskom/seaborn-data/blob/master/tips.csv).  \n",
    "[2] [rdrr.io: Reggression Class - Tips](https://rdrr.io/cran/regclass/man/TIPS.html)  \n",
    "[3] [Scipy Docs: scipy.stats.linregress](https://docs.scipy.org/doc/scipy/reference/generated/scipy.stats.linregress.html)  \n",
    "[4] [Jeff Heaton Introduction to Tensorflow](https://www.youtube.com/watch?v=PsE73jk55cE&list=PLjy4p-07OYzulelvJ5KVaT2pDlxivl_BN)  \n",
    "[5] [Real Python: Linear Regression in Python](https://realpython.com/linear-regression-in-python/)  \n",
    "[6] [Stack Overflow: Grouped Boxplot with Seaborn](https://stackoverflow.com/questions/39344167/grouped-boxplot-with-seaborn)  \n",
    "[7] [Seaborn Tutorial: Regression](https://seaborn.pydata.org/tutorial/regression.html)  \n",
    "[8] [Towards Data Science: Data Visualisation](https://towardsdatascience.com/data-visualization-a6dccf643fbb)  \n",
    "[9] []()  "
   ]
  },
  {
   "cell_type": "code",
   "execution_count": null,
   "metadata": {},
   "outputs": [],
   "source": []
  }
 ],
 "metadata": {
  "kernelspec": {
   "display_name": "Python 3",
   "language": "python",
   "name": "python3"
  },
  "language_info": {
   "codemirror_mode": {
    "name": "ipython",
    "version": 3
   },
   "file_extension": ".py",
   "mimetype": "text/x-python",
   "name": "python",
   "nbconvert_exporter": "python",
   "pygments_lexer": "ipython3",
   "version": "3.7.3"
  }
 },
 "nbformat": 4,
 "nbformat_minor": 2
}
